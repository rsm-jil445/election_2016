{
 "cells": [
  {
   "cell_type": "markdown",
   "metadata": {},
   "source": [
    "## **MGTA415_Final_Project**\n",
    "### **2016 Election Analysis:**\n",
    "\n",
    "### **Team Members**:\n",
    "- Allen Li\n",
    "- Ye Zheng\n",
    "- Hang Lyu"
   ]
  },
  {
   "cell_type": "code",
   "execution_count": 9,
   "metadata": {},
   "outputs": [
    {
     "name": "stderr",
     "output_type": "stream",
     "text": [
      "[nltk_data] Downloading package punkt to /Users/daallen/nltk_data...\n",
      "[nltk_data]   Package punkt is already up-to-date!\n",
      "[nltk_data] Downloading package stopwords to\n",
      "[nltk_data]     /Users/daallen/nltk_data...\n",
      "[nltk_data]   Unzipping corpora/stopwords.zip.\n"
     ]
    },
    {
     "data": {
      "text/plain": [
       "True"
      ]
     },
     "execution_count": 9,
     "metadata": {},
     "output_type": "execute_result"
    }
   ],
   "source": [
    "import pandas as pd \n",
    "import nltk\n",
    "from nltk.corpus import stopwords\n",
    "from nltk.tokenize import word_tokenize\n",
    "import string\n",
    "import re\n",
    "\n",
    "\n",
    "import ssl\n",
    "\n",
    "try:\n",
    "    _create_unverified_https_context = ssl._create_unverified_context\n",
    "except AttributeError:\n",
    "    pass\n",
    "else:\n",
    "    ssl._create_default_https_context = _create_unverified_https_context\n",
    "    \n",
    "nltk.download('punkt')\n",
    "nltk.download('stopwords')"
   ]
  },
  {
   "cell_type": "markdown",
   "metadata": {},
   "source": [
    "### __Load Data__"
   ]
  },
  {
   "cell_type": "code",
   "execution_count": 6,
   "metadata": {},
   "outputs": [
    {
     "name": "stdout",
     "output_type": "stream",
     "text": [
      "Debates: dict_keys(['clinton_2nd.txt', 'trump_2nd.txt', 'trump_1st.txt', 'trump_3rd.txt', 'clinton_1st.txt', 'clinton_3rd.txt'])\n",
      "Trump Speeches: 64\n",
      "Clinton Speeches: 35\n"
     ]
    }
   ],
   "source": [
    "import os\n",
    "debate_path = \"./debates/\"\n",
    "speech_path_trump = \"./speeches/trump/\"\n",
    "speech_path_clinton = \"./speeches/clinton/\"\n",
    "\n",
    "debate_files = [f for f in os.listdir(debate_path) if f.endswith('.txt')]\n",
    "debates = {file: open(debate_path + file, encoding=\"utf-8\").read() for file in debate_files}\n",
    "\n",
    "trump_files = [f for f in os.listdir(speech_path_trump) if f.endswith('.txt')]\n",
    "trump_speeches = {file: open(speech_path_trump + file, encoding=\"utf-8\").read() for file in trump_files}\n",
    "\n",
    "clinton_files = [f for f in os.listdir(speech_path_clinton) if f.endswith('.txt')]\n",
    "clinton_speeches = {file: open(speech_path_clinton + file, encoding=\"utf-8\").read() for file in clinton_files}\n",
    "\n",
    "print(\"Debates:\", debates.keys())  \n",
    "print(\"Trump Speeches:\", len(trump_speeches))  \n",
    "print(\"Clinton Speeches:\", len(clinton_speeches))"
   ]
  },
  {
   "cell_type": "markdown",
   "metadata": {},
   "source": [
    "### __Clean&Preprocess Data__"
   ]
  },
  {
   "cell_type": "code",
   "execution_count": 10,
   "metadata": {},
   "outputs": [],
   "source": [
    "def preprocess_text(text):\n",
    "    text = text.lower()  # Convert to lowercase\n",
    "    text = re.sub(r'\\d+', '', text)  # Remove numbers\n",
    "    text = text.translate(str.maketrans('', '', string.punctuation))  # Remove punctuation\n",
    "    words = word_tokenize(text)  # Tokenize words\n",
    "    words = [word for word in words if word not in stopwords.words('english') and len(word) > 2]  # Remove stopwords & short words\n",
    "    return words"
   ]
  },
  {
   "cell_type": "code",
   "execution_count": 13,
   "metadata": {},
   "outputs": [
    {
     "name": "stdout",
     "output_type": "stream",
     "text": [
      "['thank', 'lester', 'jobs', 'fleeing', 'country', 'theyre', 'going', 'mexico', 'theyre', 'going', 'many', 'countries', 'look', 'china', 'country', 'terms', 'making', 'product', 'theyre', 'devaluing', 'currency', 'theres', 'nobody', 'government', 'fight', 'good', 'fight', 'winning', 'fight', 'theyre', 'using', 'country', 'piggy', 'bank', 'rebuild', 'china', 'many', 'countries', 'thing', 'losing', 'good', 'jobs', 'many', 'look', 'whats', 'happening', 'mexico', 'friend', 'mine', 'builds']\n"
     ]
    }
   ],
   "source": [
    "# example\n",
    "trump_1st_tokens = preprocess_text(debates[\"trump_1st.txt\"])\n",
    "print(trump_1st_tokens[:50])"
   ]
  },
  {
   "cell_type": "code",
   "execution_count": null,
   "metadata": {},
   "outputs": [],
   "source": []
  }
 ],
 "metadata": {
  "kernelspec": {
   "display_name": "Python 3",
   "language": "python",
   "name": "python3"
  },
  "language_info": {
   "codemirror_mode": {
    "name": "ipython",
    "version": 3
   },
   "file_extension": ".py",
   "mimetype": "text/x-python",
   "name": "python",
   "nbconvert_exporter": "python",
   "pygments_lexer": "ipython3",
   "version": "3.11.9"
  }
 },
 "nbformat": 4,
 "nbformat_minor": 2
}
